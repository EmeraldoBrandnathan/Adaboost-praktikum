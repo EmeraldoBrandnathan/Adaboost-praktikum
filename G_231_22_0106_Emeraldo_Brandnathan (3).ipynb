{
  "nbformat": 4,
  "nbformat_minor": 0,
  "metadata": {
    "colab": {
      "provenance": []
    },
    "kernelspec": {
      "name": "python3",
      "display_name": "Python 3"
    },
    "language_info": {
      "name": "python"
    }
  },
  "cells": [
    {
      "cell_type": "code",
      "execution_count": 1,
      "metadata": {
        "id": "7_DJeXpUyBy6"
      },
      "outputs": [],
      "source": [
        "#Load libraries\n",
        "from sklearn.ensemble import AdaBoostClassifier\n",
        "from sklearn import datasets\n",
        "# Import train_test_split function\n",
        "from sklearn.model_selection import train_test_split\n",
        "#Import scikit-learn metrics module for accuracy calculation\n",
        "from sklearn import metrics"
      ]
    },
    {
      "cell_type": "code",
      "source": [
        "#Load data\n",
        "iris = datasets.load_iris()\n",
        "X = iris.data\n",
        "y = iris.target"
      ],
      "metadata": {
        "id": "p42UgmrY2MCE"
      },
      "execution_count": 2,
      "outputs": []
    },
    {
      "cell_type": "code",
      "source": [
        "# Split dataset into training set and test set\n",
        "X_train, X_test, y_train, y_test = train_test_split(X, y, test_size=0.3) # 70% training and 30% test"
      ],
      "metadata": {
        "id": "aFJ6JREM3_jE"
      },
      "execution_count": 9,
      "outputs": []
    },
    {
      "cell_type": "code",
      "source": [
        "# Create adaboost classifer object\n",
        "abc = AdaBoostClassifier(n_estimators=50, learning_rate=1)\n",
        "# Train Adaboost Classifer\n",
        "model = abc.fit(X_train, y_train)\n",
        "#Predict the response for test dataset\n",
        "y_pred = model.predict(X_test)"
      ],
      "metadata": {
        "id": "eJUuFjVt4spx"
      },
      "execution_count": 12,
      "outputs": []
    },
    {
      "cell_type": "code",
      "source": [
        "#Model Accuracy, how often is the classifier correct?\n",
        "print(\"Accuracy:\", metrics.accuracy_score(y_test, y_pred))"
      ],
      "metadata": {
        "colab": {
          "base_uri": "https://localhost:8080/"
        },
        "id": "IHoPqBoi4y6u",
        "outputId": "0ffd35d6-1ed6-4a19-abe3-a7845f98b4b3"
      },
      "execution_count": 14,
      "outputs": [
        {
          "output_type": "stream",
          "name": "stdout",
          "text": [
            "Accuracy: 0.9333333333333333\n"
          ]
        }
      ]
    },
    {
      "cell_type": "code",
      "source": [
        "import sys\n",
        "sys.path.append('/content/ML-From-Scratch')"
      ],
      "metadata": {
        "id": "bKBu3aOF5Fe-"
      },
      "execution_count": 25,
      "outputs": []
    },
    {
      "cell_type": "code",
      "source": [
        "data = datasets.load_digits()"
      ],
      "metadata": {
        "id": "c7ASjOrc-ug5"
      },
      "execution_count": 17,
      "outputs": []
    },
    {
      "cell_type": "code",
      "source": [
        "from __future__ import division, print_function\n",
        "import numpy as np\n",
        "import math\n",
        "from sklearn import datasets\n",
        "import matplotlib.pyplot as plt\n",
        "import pandas as pd\n",
        "\n",
        "# Import helper functions\n",
        "from mlfromscratch.utils import train_test_split, accuracy_score, Plot\n",
        "\n",
        "# Decision stump used as weak classifier in this impl. of Adaboost\n",
        "class DecisionStump():\n",
        "    def __init__(self):\n",
        "        # Determines if sample shall be classified as -1 or 1 given threshold\n",
        "        self.polarity = 1\n",
        "        # The index of the feature used to make classification\n",
        "        self.feature_index = None\n",
        "        # The threshold value that the feature should be measured against\n",
        "        self.threshold = None\n",
        "        # Value indicative of the classifier's accuracy\n",
        "        self.alpha = None\n",
        "\n",
        "class Adaboost():\n",
        "    \"\"\"Boosting method that uses a number of weak classifiers in\n",
        "    ensemble to make a strong classifier. This implementation uses decision\n",
        "    stumps, which is a one level Decision Tree.\n",
        "\n",
        "    Parameters:\n",
        "    _ _ _ _ _ _ _ _ _ _ _\n",
        "    n_clf: int\n",
        "        The number of weak classifiers that will be used.\n",
        "    \"\"\"\n",
        "    def __init__(self, n_clf=5):\n",
        "        self.n_clf = n_clf\n",
        "\n",
        "    def fit(self, x, y):\n",
        "        n_samples, n_features = np.shape(X)"
      ],
      "metadata": {
        "colab": {
          "base_uri": "https://localhost:8080/",
          "height": 383
        },
        "id": "6x3V2WPo7Uzm",
        "outputId": "beb8cdb3-5317-4971-b486-b5ab41443290"
      },
      "execution_count": 21,
      "outputs": [
        {
          "output_type": "error",
          "ename": "ModuleNotFoundError",
          "evalue": "No module named 'mlfromscratch'",
          "traceback": [
            "\u001b[0;31m---------------------------------------------------------------------------\u001b[0m",
            "\u001b[0;31mModuleNotFoundError\u001b[0m                       Traceback (most recent call last)",
            "\u001b[0;32m<ipython-input-21-973bcc7f9eee>\u001b[0m in \u001b[0;36m<cell line: 9>\u001b[0;34m()\u001b[0m\n\u001b[1;32m      7\u001b[0m \u001b[0;34m\u001b[0m\u001b[0m\n\u001b[1;32m      8\u001b[0m \u001b[0;31m# Import helper functions\u001b[0m\u001b[0;34m\u001b[0m\u001b[0;34m\u001b[0m\u001b[0m\n\u001b[0;32m----> 9\u001b[0;31m \u001b[0;32mfrom\u001b[0m \u001b[0mmlfromscratch\u001b[0m\u001b[0;34m.\u001b[0m\u001b[0mutils\u001b[0m \u001b[0;32mimport\u001b[0m \u001b[0mtrain_test_split\u001b[0m\u001b[0;34m,\u001b[0m \u001b[0maccuracy_score\u001b[0m\u001b[0;34m,\u001b[0m \u001b[0mPlot\u001b[0m\u001b[0;34m\u001b[0m\u001b[0;34m\u001b[0m\u001b[0m\n\u001b[0m\u001b[1;32m     10\u001b[0m \u001b[0;34m\u001b[0m\u001b[0m\n\u001b[1;32m     11\u001b[0m \u001b[0;31m# Decision stump used as weak classifier in this impl. of Adaboost\u001b[0m\u001b[0;34m\u001b[0m\u001b[0;34m\u001b[0m\u001b[0m\n",
            "\u001b[0;31mModuleNotFoundError\u001b[0m: No module named 'mlfromscratch'",
            "",
            "\u001b[0;31m---------------------------------------------------------------------------\u001b[0;32m\nNOTE: If your import is failing due to a missing package, you can\nmanually install dependencies using either !pip or !apt.\n\nTo view examples of installing some common dependencies, click the\n\"Open Examples\" button below.\n\u001b[0;31m---------------------------------------------------------------------------\u001b[0m\n"
          ],
          "errorDetails": {
            "actions": [
              {
                "action": "open_url",
                "actionText": "Open Examples",
                "url": "/notebooks/snippets/importing_libraries.ipynb"
              }
            ]
          }
        }
      ]
    }
  ]
}